{
 "cells": [
  {
   "cell_type": "code",
   "execution_count": 1,
   "metadata": {},
   "outputs": [
    {
     "name": "stdout",
     "output_type": "stream",
     "text": [
      "0.000270843505859375 3.1948089599609375e-05\n",
      "Numpy is in this example 8.477611940298507 faster!\n"
     ]
    }
   ],
   "source": [
    "import time\n",
    "import numpy as np\n",
    "\n",
    "size_of_vec = 1000\n",
    "\n",
    "def pure_python_version():\n",
    "    t1 = time.time()\n",
    "    X = range(size_of_vec)\n",
    "    Y = range(size_of_vec)\n",
    "    Z = [X[i] + Y[i] for i in range(len(X)) ]\n",
    "    return time.time() - t1\n",
    "\n",
    "def numpy_version():\n",
    "    t1 = time.time()\n",
    "    X = np.arange(size_of_vec)\n",
    "    Y = np.arange(size_of_vec)\n",
    "    Z = X + Y\n",
    "    return time.time() - t1\n",
    "\n",
    "\n",
    "t1 = pure_python_version()\n",
    "t2 = numpy_version()\n",
    "print(t1, t2)\n",
    "print(\"Numpy is in this example \" + str(t1/t2) + \" faster!\")"
   ]
  },
  {
   "cell_type": "code",
   "execution_count": 2,
   "metadata": {},
   "outputs": [
    {
     "name": "stdout",
     "output_type": "stream",
     "text": [
      "0.005074768999989487\n",
      "0.000253162999996448\n",
      "[0.007496766999992133, 0.0076890140000074325, 0.006889438000001746]\n",
      "[5.003299999373212e-05, 2.5884999999448155e-05, 2.5820000004728172e-05]\n"
     ]
    }
   ],
   "source": [
    "import numpy as np\n",
    "from timeit import Timer\n",
    "\n",
    "size_of_vec = 1000\n",
    "X_list = range(size_of_vec)\n",
    "Y_list = range(size_of_vec)\n",
    "X = np.arange(size_of_vec)\n",
    "Y = np.arange(size_of_vec)\n",
    "\n",
    "def pure_python_version():\n",
    "    Z = [X_list[i] + Y_list[i] for i in range(len(X_list)) ]\n",
    "\n",
    "def numpy_version():\n",
    "    Z = X + Y\n",
    "\n",
    "timer_obj1 = Timer(\"pure_python_version()\", \n",
    "                   \"from __main__ import pure_python_version\")\n",
    "timer_obj2 = Timer(\"numpy_version()\", \n",
    "                   \"from __main__ import numpy_version\")\n",
    "\n",
    "print(timer_obj1.timeit(10))\n",
    "print(timer_obj2.timeit(10))  # Runs Faster!\n",
    "\n",
    "print(timer_obj1.repeat(repeat=3, number=10))\n",
    "print(timer_obj2.repeat(repeat=3, number=10)) # repeat to prove it!\n",
    "\n"
   ]
  },
  {
   "cell_type": "code",
   "execution_count": null,
   "metadata": {},
   "outputs": [],
   "source": []
  }
 ],
 "metadata": {
  "kernelspec": {
   "display_name": "Python 3",
   "language": "python",
   "name": "python3"
  },
  "language_info": {
   "codemirror_mode": {
    "name": "ipython",
    "version": 3
   },
   "file_extension": ".py",
   "mimetype": "text/x-python",
   "name": "python",
   "nbconvert_exporter": "python",
   "pygments_lexer": "ipython3",
   "version": "3.7.6"
  }
 },
 "nbformat": 4,
 "nbformat_minor": 4
}
